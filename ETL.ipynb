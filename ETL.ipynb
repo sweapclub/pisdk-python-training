{
 "cells": [
  {
   "cell_type": "code",
   "execution_count": null,
   "metadata": {},
   "outputs": [],
   "source": [
    "import win32com.client\n",
    "import configparser\n",
    "import pandas as pd\n",
    "from datetime import datetime,timedelta\n",
    "import pytz\n",
    "\n",
    "config = configparser.ConfigParser()\n",
    "config.sections()\n",
    "config.read('PIMX_Config.ini')"
   ]
  },
  {
   "cell_type": "code",
   "execution_count": null,
   "metadata": {},
   "outputs": [],
   "source": [
    "try:\n",
    "    pitags_df = pd.read_csv(config['FilePath']['TAG_INPUT_FILE'])\n",
    "    pitags_df.head()\n",
    "except Exception as e:\n",
    "    print(\"Exception occurred\", exc_info=e)"
   ]
  },
  {
   "cell_type": "code",
   "execution_count": null,
   "metadata": {},
   "outputs": [],
   "source": [
    "try:\n",
    "    pi_sdk = win32com.client.Dispatch('PISDK.PISDK')\n",
    "    conn = win32com.client.Dispatch('PISDKDlg.Connections')\n",
    "    pi_server = pi_sdk.Servers(config['PI_CFG']['SERVER'])\n",
    "    conn.Login(pi_server,config['PI_CFG']['USER'],'',1,0) \n",
    "except Exception as e:\n",
    "    print(\"Exception occurred\", exc_info=e)"
   ]
  },
  {
   "cell_type": "code",
   "execution_count": null,
   "metadata": {},
   "outputs": [],
   "source": [
    "current_time = pytz.timezone(\"Asia/Bangkok\").localize(datetime.now())\n",
    "start_time = (current_time - timedelta(hours=1)).strftime(\"%d-%b-%y %H:10\").lower()\n",
    "end_time = current_time.strftime(\"%d-%b-%y %H:00\").lower()\n",
    "# current_time = pytz.timezone(\"Asia/Bangkok\").localize(datetime.now())\n",
    "# interval = 5\n",
    "# delta_minute = int(current_time.strftime('%M')) % interval\n",
    "# start_time = (current_time - timedelta(minutes=interval + delta_minute)).strftime(\"%d-%b-%y %H:%M\").lower()\n",
    "# end_time = (current_time - timedelta(minutes=delta_minute)).strftime(\"%d-%b-%y %H:%M\").lower()\n",
    "print('read data from : {} to {}'.format(start_time,end_time))"
   ]
  },
  {
   "cell_type": "code",
   "execution_count": null,
   "metadata": {
    "scrolled": true
   },
   "outputs": [],
   "source": [
    "try:\n",
    "    rows_to_insert = []\n",
    "    for index,row in pitags_df.iterrows():\n",
    "        pi_point = pi_server.PIPoints[row['PITags']] \n",
    "        recorded_values = pi_point.Data.InterpolatedValues('01-dec-21 08:10','01-dec-21 12:00',24,\"\",2,None)\n",
    "        if recorded_values.Count > 1 :\n",
    "            for raw_index,raw_data in enumerate(recorded_values) :\n",
    "                Value=raw_data.Value\n",
    "                rows_to_insert.append({u\"timestamp\" : raw_data.TimeStamp.LocalDate.strftime(\"%Y-%m-%dT%H:%M:%S+07:00\"),\n",
    "                       u\"id\" : row['PITags'],\n",
    "                       u\"value\": Value,\n",
    "                       u\"created_at\" : pytz.timezone(\"Asia/Bangkok\").localize(datetime.now()).strftime(\"%Y-%m-%dT%H:%M:%S+07:00\")\n",
    "                       })\n",
    "                # rows_to_insert.append((raw_data.TimeStamp.LocalDate.strftime(\"%Y-%m-%dT%H:%M:%S+07:00\"),\n",
    "                #        row['PITags'],\n",
    "                #        Value,\n",
    "                #         pytz.timezone(\"Asia/Bangkok\").localize(datetime.now()).strftime(\"%Y-%m-%dT%H:%M:%S+07:00\")\n",
    "                #        ))\n",
    "except Exception as e:\n",
    "    print(\"Exception occurred\", exc_info=e)\n",
    "# print(sorted(rows_to_insert,key=lambda x: x['timestamp']))\n",
    "print('prepare data : {} rows'.format(len(rows_to_insert)))"
   ]
  },
  {
   "cell_type": "code",
   "execution_count": null,
   "metadata": {},
   "outputs": [],
   "source": [
    "# client = bigquery.Client()\n",
    "# errors = client.insert_rows_json('merlindb.RAW_SENSOR', rows_to_insert)  # Make an API request.\n",
    "# if errors == []:\n",
    "#     print(\"New rows have been added.\")\n",
    "# else:\n",
    "#     print(\"Encountered errors while inserting rows: {}\".format(errors))"
   ]
  },
  {
   "cell_type": "code",
   "execution_count": null,
   "metadata": {
    "scrolled": true
   },
   "outputs": [],
   "source": [
    "import pymssql\n",
    "\n",
    "server = 'server'\n",
    "user = 'user'\n",
    "password = 'pwd'\n",
    "db= 'db'\n",
    "conn = pymssql.connect(server, user, password, db)\n",
    "cursor = conn.cursor()\n",
    "cursor.executemany(\n",
    "    \"INSERT INTO SENSOR_TAG VALUES (%d, %s, %s)\",rows_to_insert)\n",
    "# you must call commit() to persist your data if you don't set autocommit to True\n",
    "conn.commit()\n",
    "\n",
    "# cursor.execute('SELECT * FROM persons WHERE salesrep=%s', 'John Doe')\n",
    "# row = cursor.fetchone()\n",
    "# while row:\n",
    "#     print(\"ID=%d, Name=%s\" % (row[0], row[1]))\n",
    "#     row = cursor.fetchone()\n",
    "\n",
    "conn.close()"
   ]
  },
  {
   "cell_type": "code",
   "execution_count": null,
   "metadata": {},
   "outputs": [],
   "source": []
  }
 ],
 "metadata": {
  "kernelspec": {
   "display_name": "Python 3",
   "language": "python",
   "name": "python3"
  },
  "language_info": {
   "codemirror_mode": {
    "name": "ipython",
    "version": 3
   },
   "file_extension": ".py",
   "mimetype": "text/x-python",
   "name": "python",
   "nbconvert_exporter": "python",
   "pygments_lexer": "ipython3",
   "version": "3.8.5"
  }
 },
 "nbformat": 4,
 "nbformat_minor": 4
}
